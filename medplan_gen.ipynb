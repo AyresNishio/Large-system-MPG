{
 "cells": [
  {
   "cell_type": "code",
   "execution_count": 1,
   "metadata": {},
   "outputs": [],
   "source": [
    "import numpy as np\n",
    "import os\n",
    "from f_meas_gen import *"
   ]
  },
  {
   "cell_type": "code",
   "execution_count": 2,
   "metadata": {},
   "outputs": [],
   "source": [
    "#Carrega Rede\n",
    "Ybus_File = \"Rede_2224bus_GB.txt\"\n",
    "#Ybus_File = \"ieee-6-bus.txt\"\n",
    "Ybus = np.loadtxt(Ybus_File, dtype='i', delimiter=',')"
   ]
  },
  {
   "cell_type": "code",
   "execution_count": 3,
   "metadata": {},
   "outputs": [],
   "source": [
    "def count_branches(Ybus):\n",
    "    n_branches = 0\n",
    "    \n",
    "    for line in Ybus:\n",
    "        for i in line:\n",
    "            n_branches += i\n",
    "    n_branches = int(n_branches/2)\n",
    "    return n_branches"
   ]
  },
  {
   "cell_type": "code",
   "execution_count": 4,
   "metadata": {},
   "outputs": [],
   "source": [
    "class Bus_system:\n",
    "    def __init__(self, Ybus):\n",
    "        self.Ybus=Ybus\n",
    "        self.n_bus =  np.size(Ybus,1)\n",
    "        self.n_branches = count_branches(Ybus)\n",
    "        self.max_meas = self.n_branches*2 + self.n_bus\n"
   ]
  },
  {
   "cell_type": "code",
   "execution_count": 5,
   "metadata": {},
   "outputs": [],
   "source": [
    "#Parametros da Topologia\n",
    "power_system = Bus_system(Ybus)"
   ]
  },
  {
   "cell_type": "code",
   "execution_count": 6,
   "metadata": {},
   "outputs": [],
   "source": [
    "def build_measurement_plan(Power_Sys,max_redun,semente = 5):\n",
    "\n",
    "        seed(semente)\n",
    "\n",
    "        Ybus = Power_Sys.Ybus\n",
    "        max_meas = Power_Sys.max_meas\n",
    "        n_bus = Power_Sys.n_bus\n",
    "\n",
    "        meas_plan = build_empty_measurement_plan(Ybus,max_meas)\n",
    "\n",
    "        n_meas = 0\n",
    "        observable = False\n",
    "        redundancy = 0\n",
    "\n",
    "        possible_meas = [i for i in range(1,max_meas+1)]\n",
    "\n",
    "        #Alcança Redundância minima\n",
    "        while( redundancy < max_redun):\n",
    "\n",
    "            n_meas += add_random_measurement(meas_plan,possible_meas)\n",
    "            redundancy =  calculate_redundancy(n_meas,n_bus,max_meas)\n",
    "\n",
    "        #TODO Criar função 'test_observability(Ybus,meas_plan)' para estas 3 funções \n",
    "        H = build_jacobian_matrix(Ybus,meas_plan)\n",
    "        G = build_gain_matrix(H)\n",
    "        observable = test_observability(G,1.E-10)\n",
    "        \n",
    "        #Alcança observabilidade\n",
    "        while( not observable):\n",
    "            n_meas += add_random_measurement(meas_plan,possible_meas)\n",
    "            redundancy =  calculate_redundancy(n_meas,n_bus,max_meas)\n",
    "\n",
    "            H = build_jacobian_matrix(Ybus,meas_plan)\n",
    "            G = build_gain_matrix(H)\n",
    "            observable = test_observability(G,1.E-10)\n",
    "\n",
    "        meas_plan = remove_desactivated_measurements(meas_plan)\n",
    "\n",
    "        return meas_plan"
   ]
  },
  {
   "cell_type": "code",
   "execution_count": 7,
   "metadata": {},
   "outputs": [
    {
     "name": "stdout",
     "output_type": "stream",
     "text": [
      "UNOBSERVABLE SYSTEM\n",
      "UNOBSERVABLE SYSTEM\n",
      "UNOBSERVABLE SYSTEM\n",
      "UNOBSERVABLE SYSTEM\n",
      "UNOBSERVABLE SYSTEM\n",
      "UNOBSERVABLE SYSTEM\n",
      "UNOBSERVABLE SYSTEM\n",
      "UNOBSERVABLE SYSTEM\n",
      "UNOBSERVABLE SYSTEM\n",
      "UNOBSERVABLE SYSTEM\n",
      "UNOBSERVABLE SYSTEM\n",
      "UNOBSERVABLE SYSTEM\n",
      "UNOBSERVABLE SYSTEM\n",
      "UNOBSERVABLE SYSTEM\n",
      "UNOBSERVABLE SYSTEM\n",
      "UNOBSERVABLE SYSTEM\n",
      "UNOBSERVABLE SYSTEM\n",
      "UNOBSERVABLE SYSTEM\n",
      "UNOBSERVABLE SYSTEM\n",
      "UNOBSERVABLE SYSTEM\n",
      "UNOBSERVABLE SYSTEM\n",
      "UNOBSERVABLE SYSTEM\n",
      "UNOBSERVABLE SYSTEM\n",
      "UNOBSERVABLE SYSTEM\n",
      "UNOBSERVABLE SYSTEM\n",
      "UNOBSERVABLE SYSTEM\n",
      "UNOBSERVABLE SYSTEM\n",
      "UNOBSERVABLE SYSTEM\n",
      "UNOBSERVABLE SYSTEM\n",
      "UNOBSERVABLE SYSTEM\n",
      "UNOBSERVABLE SYSTEM\n",
      "UNOBSERVABLE SYSTEM\n",
      "UNOBSERVABLE SYSTEM\n",
      "UNOBSERVABLE SYSTEM\n",
      "UNOBSERVABLE SYSTEM\n",
      "UNOBSERVABLE SYSTEM\n",
      "UNOBSERVABLE SYSTEM\n",
      "UNOBSERVABLE SYSTEM\n",
      "UNOBSERVABLE SYSTEM\n",
      "UNOBSERVABLE SYSTEM\n",
      "UNOBSERVABLE SYSTEM\n",
      "UNOBSERVABLE SYSTEM\n",
      "UNOBSERVABLE SYSTEM\n",
      "UNOBSERVABLE SYSTEM\n",
      "UNOBSERVABLE SYSTEM\n",
      "UNOBSERVABLE SYSTEM\n",
      "UNOBSERVABLE SYSTEM\n",
      "UNOBSERVABLE SYSTEM\n",
      "UNOBSERVABLE SYSTEM\n",
      "UNOBSERVABLE SYSTEM\n"
     ]
    }
   ],
   "source": [
    "measurement_plan = build_measurement_plan(power_system,.8)"
   ]
  },
  {
   "cell_type": "code",
   "execution_count": null,
   "metadata": {},
   "outputs": [],
   "source": [
    "#Tamanho da Rede\n",
    "print(np.size(measurement_plan,0))\n",
    "#Salva Rede\n",
    "np.savetxt('medplan6784medidas.txt',measurement_plan,fmt='%1d')"
   ]
  }
 ],
 "metadata": {
  "kernelspec": {
   "display_name": "Python 3.9.13 64-bit (microsoft store)",
   "language": "python",
   "name": "python3"
  },
  "language_info": {
   "codemirror_mode": {
    "name": "ipython",
    "version": 3
   },
   "file_extension": ".py",
   "mimetype": "text/x-python",
   "name": "python",
   "nbconvert_exporter": "python",
   "pygments_lexer": "ipython3",
   "version": "3.9.13"
  },
  "orig_nbformat": 4,
  "vscode": {
   "interpreter": {
    "hash": "6c03531b4b3697884a919690ca2d14b8504105f80e859a9f5f029be47f9dca13"
   }
  }
 },
 "nbformat": 4,
 "nbformat_minor": 2
}
