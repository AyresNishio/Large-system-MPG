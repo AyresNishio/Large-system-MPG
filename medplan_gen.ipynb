{
 "cells": [
  {
   "cell_type": "code",
   "execution_count": 1,
   "metadata": {},
   "outputs": [],
   "source": [
    "import numpy as np\n",
    "import os\n",
    "from f_meas_gen import *"
   ]
  },
  {
   "cell_type": "code",
   "execution_count": 2,
   "metadata": {},
   "outputs": [],
   "source": [
    "#Carrega Rede\n",
    "#Ybus_File = \"ieee-6-bus.txt\"\n",
    "#Ybus_File = \"Rede_Polonia.txt\"\n",
    "Ybus_File = \"ieee-300-bus.txt\"\n",
    "Ybus = np.loadtxt(Ybus_File, dtype='i', delimiter=',')\n",
    "terminal_buses = get_terminal_bus(Ybus)"
   ]
  },
  {
   "cell_type": "code",
   "execution_count": 3,
   "metadata": {},
   "outputs": [],
   "source": [
    "def count_branches(Ybus):\n",
    "    n_branches = 0\n",
    "    \n",
    "    for line in Ybus:\n",
    "        for i in line:\n",
    "            n_branches += i\n",
    "    n_branches = int(n_branches/2)\n",
    "    return n_branches"
   ]
  },
  {
   "cell_type": "code",
   "execution_count": 4,
   "metadata": {},
   "outputs": [],
   "source": [
    "class Bus_system:\n",
    "    def __init__(self, Ybus):\n",
    "        self.Ybus=Ybus\n",
    "        self.n_bus =  np.size(Ybus,1)\n",
    "        self.n_branches = count_branches(Ybus)\n",
    "        self.max_meas = self.n_branches*2 + self.n_bus\n"
   ]
  },
  {
   "cell_type": "code",
   "execution_count": 5,
   "metadata": {},
   "outputs": [],
   "source": [
    "def get_initial_meas_plan(meas_plan, terminal_buses):\n",
    "    for bus in terminal_buses:\n",
    "        for line in range(meas_plan.shape[0]):\n",
    "            if (meas_plan[line,1] == bus):\n",
    "                meas_plan[line,6] = 1\n",
    "\n",
    "    return meas_plan"
   ]
  },
  {
   "cell_type": "code",
   "execution_count": 6,
   "metadata": {},
   "outputs": [],
   "source": [
    "#Parametros da Topologia\n",
    "power_system = Bus_system(Ybus)\n"
   ]
  },
  {
   "cell_type": "code",
   "execution_count": 8,
   "metadata": {},
   "outputs": [],
   "source": [
    "def build_measurement_plan(Power_Sys,max_redun,semente = 5):\n",
    "\n",
    "        seed(semente)\n",
    "\n",
    "        Ybus = Power_Sys.Ybus\n",
    "        max_meas = Power_Sys.max_meas\n",
    "        n_bus = Power_Sys.n_bus\n",
    "\n",
    "        meas_plan = build_empty_measurement_plan(Ybus,max_meas)\n",
    "\n",
    "        n_meas = 0\n",
    "        observable = False\n",
    "        redundancy = 0\n",
    "\n",
    "        possible_meas = [i for i in range(1,max_meas+1)]\n",
    "\n",
    "        #Alcança Redundância minima\n",
    "        while( redundancy < max_redun):\n",
    "\n",
    "            n_meas += add_random_measurement(meas_plan,possible_meas)\n",
    "            redundancy =  calculate_redundancy(n_meas,n_bus,max_meas)\n",
    "\n",
    "        #TODO Criar função 'test_observability(Ybus,meas_plan)' para estas 3 funções \n",
    "        H = build_jacobian_matrix(Ybus,meas_plan)\n",
    "        G = build_gain_matrix(H)\n",
    "        observable = test_observability(G,1.E-10)\n",
    "        \n",
    "        #Alcança observabilidade\n",
    "        while( not observable):\n",
    "            n_meas += add_random_measurement(meas_plan,possible_meas)\n",
    "            redundancy =  calculate_redundancy(n_meas,n_bus,max_meas)\n",
    "\n",
    "            H = build_jacobian_matrix(Ybus,meas_plan)\n",
    "            G = build_gain_matrix(H)\n",
    "            observable = test_observability(G,1.E-10)\n",
    "\n",
    "        meas_plan = remove_desactivated_measurements(meas_plan)\n",
    "\n",
    "        return meas_plan"
   ]
  },
  {
   "cell_type": "code",
   "execution_count": 9,
   "metadata": {},
   "outputs": [],
   "source": [
    "def build_measurement_plan_with_initial_allocation(Power_Sys,max_redun,semente = 5):\n",
    "\n",
    "        seed(semente)\n",
    "\n",
    "        Ybus = Power_Sys.Ybus\n",
    "        max_meas = Power_Sys.max_meas\n",
    "        n_bus = Power_Sys.n_bus\n",
    "\n",
    "        empty_plan = build_empty_measurement_plan(Ybus, max_meas)\n",
    "        terminal_buses = get_terminal_bus(Ybus)\n",
    "        meas_plan = get_initial_meas_plan(empty_plan, terminal_buses)\n",
    "\n",
    "        n_meas = sum(meas_plan[:,6])\n",
    "        observable = False\n",
    "        redundancy = calculate_redundancy(n_meas,n_bus,max_meas)\n",
    "\n",
    "        possible_meas = [i for i in range(1,max_meas+1)]\n",
    "        pre_allocated_meas = [i for i in meas_plan[:,0] if meas_plan[i-1,6] == 1]\n",
    "        available_meas = list(set(possible_meas) - set(pre_allocated_meas))\n",
    "\n",
    "        # #Alcança Redundância minima\n",
    "        while( redundancy < max_redun):\n",
    "\n",
    "            n_meas += add_random_measurement(meas_plan,available_meas)\n",
    "            redundancy =  calculate_redundancy(n_meas,n_bus,max_meas)\n",
    "\n",
    "        #TODO Criar função 'test_observability(Ybus,meas_plan)' para estas 3 funções \n",
    "        H = build_jacobian_matrix(Ybus,meas_plan)\n",
    "        G = build_gain_matrix(H)\n",
    "        observable = test_observability(G,1.E-10)\n",
    "        \n",
    "        #Alcança observabilidade\n",
    "        while( not observable):\n",
    "            n_meas += add_random_measurement(meas_plan,possible_meas)\n",
    "            redundancy =  calculate_redundancy(n_meas,n_bus,max_meas)\n",
    "\n",
    "            H = build_jacobian_matrix(Ybus,meas_plan)\n",
    "            G = build_gain_matrix(H)\n",
    "            observable = test_observability(G,1.E-10)\n",
    "\n",
    "        meas_plan = remove_desactivated_measurements(meas_plan)\n",
    "\n",
    "        return meas_plan"
   ]
  },
  {
   "cell_type": "code",
   "execution_count": 9,
   "metadata": {},
   "outputs": [],
   "source": [
    "def build_measurement_plan_with_ordered_bus(Power_Sys,max_redun,semente = 5):\n",
    "    seed(semente)\n",
    "\n",
    "    Ybus = Power_Sys.Ybus\n",
    "    max_meas = Power_Sys.max_meas\n",
    "    n_bus = Power_Sys.n_bus\n",
    "\n",
    "    meas_plan = build_empty_measurement_plan(Ybus, max_meas)\n",
    "\n",
    "    most_relevant_buses = get_most_relevant_buses(Ybus)\n",
    "    meas_plan = get_initial_meas_plan(meas_plan, most_relevant_buses)    \n",
    "    \n",
    "    n_meas = sum(meas_plan[:,6])\n",
    "    observable = False\n",
    "    redundancy = calculate_redundancy(n_meas,n_bus,max_meas)\n",
    "\n",
    "    possible_meas = [i for i in range(1,max_meas+1)]\n",
    "    pre_allocated_meas = [i for i in meas_plan[:,0] if meas_plan[i-1,6] == 1]\n",
    "    available_meas = list(set(possible_meas) - set(pre_allocated_meas))\n",
    "\n",
    "    # #Alcança Redundância minima\n",
    "    while( redundancy < max_redun):\n",
    "\n",
    "        n_meas += add_random_measurement(meas_plan,available_meas)\n",
    "        redundancy =  calculate_redundancy(n_meas,n_bus,max_meas)\n",
    "\n",
    "    #TODO Criar função 'test_observability(Ybus,meas_plan)' para estas 3 funções \n",
    "    H = build_jacobian_matrix(Ybus,meas_plan)\n",
    "    G = build_gain_matrix(H)\n",
    "    observable = test_observability(G,1.E-10)\n",
    "    \n",
    "    #Alcança observabilidade\n",
    "    while( not observable):\n",
    "        n_meas += add_random_measurement(meas_plan,possible_meas)\n",
    "        redundancy =  calculate_redundancy(n_meas,n_bus,max_meas)\n",
    "\n",
    "        H = build_jacobian_matrix(Ybus,meas_plan)\n",
    "        G = build_gain_matrix(H)\n",
    "        observable = test_observability(G,1.E-10)\n",
    "\n",
    "    meas_plan = remove_desactivated_measurements(meas_plan)\n",
    "\n",
    "    return meas_plan"
   ]
  },
  {
   "cell_type": "code",
   "execution_count": 7,
   "metadata": {},
   "outputs": [],
   "source": [
    "def build_measurement_plan_from_initial_plan(Power_Sys,max_redun,semente = 5):\n",
    "    seed(semente)\n",
    "\n",
    "    Ybus = Power_Sys.Ybus\n",
    "    max_meas = Power_Sys.max_meas\n",
    "    n_bus = Power_Sys.n_bus\n",
    "\n",
    "    meas_plan = build_empty_measurement_plan(Ybus, max_meas)\n",
    "\n",
    "    initial_plan_file = \"Initial_meas_plan.txt\"\n",
    "    initial_meas = np.loadtxt(initial_plan_file, dtype='i')\n",
    "    meas_plan = get_initial_meas_plan(meas_plan, initial_meas)    \n",
    "    \n",
    "    n_meas = sum(meas_plan[:,6])\n",
    "    observable = False\n",
    "    redundancy = calculate_redundancy(n_meas,n_bus,max_meas)\n",
    "\n",
    "    possible_meas = [i for i in range(1,max_meas+1)]\n",
    "    pre_allocated_meas = [i for i in meas_plan[:,0] if meas_plan[i-1,6] == 1]\n",
    "    available_meas = list(set(possible_meas) - set(pre_allocated_meas))\n",
    "\n",
    "    # #Alcança Redundância minima\n",
    "    while( redundancy < max_redun):\n",
    "\n",
    "        n_meas += add_random_measurement(meas_plan,available_meas)\n",
    "        redundancy =  calculate_redundancy(n_meas,n_bus,max_meas)\n",
    "\n",
    "    #TODO Criar função 'test_observability(Ybus,meas_plan)' para estas 3 funções \n",
    "    H = build_jacobian_matrix(Ybus,meas_plan)\n",
    "    G = build_gain_matrix(H)\n",
    "    observable = test_observability(G,1.E-10)\n",
    "    \n",
    "    #Alcança observabilidade\n",
    "    while( not observable):\n",
    "        n_meas += add_random_measurement(meas_plan,possible_meas)\n",
    "        redundancy =  calculate_redundancy(n_meas,n_bus,max_meas)\n",
    "\n",
    "        H = build_jacobian_matrix(Ybus,meas_plan)\n",
    "        G = build_gain_matrix(H)\n",
    "        observable = test_observability(G,1.E-10)\n",
    "\n",
    "    meas_plan = remove_desactivated_measurements(meas_plan)\n",
    "\n",
    "    return meas_plan"
   ]
  },
  {
   "cell_type": "code",
   "execution_count": 8,
   "metadata": {},
   "outputs": [
    {
     "name": "stderr",
     "output_type": "stream",
     "text": [
      "C:\\Users\\ayres\\AppData\\Local\\Packages\\PythonSoftwareFoundation.Python.3.9_qbz5n2kfra8p0\\LocalCache\\local-packages\\Python39\\site-packages\\numpy\\linalg\\linalg.py:2158: RuntimeWarning: overflow encountered in det\n",
      "  r = _umath_linalg.det(a, signature=signature)\n"
     ]
    }
   ],
   "source": [
    "\n",
    "measurement_plan = build_measurement_plan_from_initial_plan(power_system,.6)"
   ]
  },
  {
   "cell_type": "code",
   "execution_count": 9,
   "metadata": {},
   "outputs": [
    {
     "name": "stdout",
     "output_type": "stream",
     "text": [
      "5846\n"
     ]
    }
   ],
   "source": [
    "#Tamanho da Rede\n",
    "print(np.size(measurement_plan,0))\n",
    "#Salva Rede\n",
    "np.savetxt('medplan4-01-23.txt',measurement_plan,fmt='%1d')"
   ]
  },
  {
   "cell_type": "code",
   "execution_count": 10,
   "metadata": {},
   "outputs": [
    {
     "name": "stdout",
     "output_type": "stream",
     "text": [
      "0.6000346440325653\n"
     ]
    }
   ],
   "source": [
    "n_max_meas=power_system.max_meas\n",
    "n_measurements = len(measurement_plan)\n",
    "n_bus = power_system.n_bus\n",
    "print(calculate_redundancy(n_measurements,n_bus,n_max_meas))"
   ]
  },
  {
   "cell_type": "code",
   "execution_count": 11,
   "metadata": {},
   "outputs": [],
   "source": [
    "def save_case_for_GPU_CA(Bus_system,measurement_plan):\n",
    "    Ybus = Bus_system.Ybus\n",
    "    n_bus = Bus_system.n_bus\n",
    "    n_measurements = len(measurement_plan)\n",
    "\n",
    "    filename = 'Caso' + str(n_bus) +'b'+str(n_measurements)+'m.txt'\n",
    "    case_data = [n_measurements]\n",
    "\n",
    "    H = build_jacobian_matrix(Ybus,measurement_plan)\n",
    "    G = build_gain_matrix(H)\n",
    "    E = build_covariance_matrix(G,H)\n",
    "\n",
    "    file = open(filename,'a')\n",
    "    np.savetxt(file, case_data,delimiter=' ',  fmt ='%i')\n",
    "    np.savetxt(file,measurement_plan, delimiter=' ',fmt = '%i')\n",
    "    np.savetxt(file,E, delimiter=' ')\n",
    "    file.close()"
   ]
  },
  {
   "cell_type": "code",
   "execution_count": 12,
   "metadata": {},
   "outputs": [
    {
     "name": "stderr",
     "output_type": "stream",
     "text": [
      "C:\\Users\\ayres\\AppData\\Local\\Packages\\PythonSoftwareFoundation.Python.3.9_qbz5n2kfra8p0\\LocalCache\\local-packages\\Python39\\site-packages\\numpy\\linalg\\linalg.py:2158: RuntimeWarning: overflow encountered in det\n",
      "  r = _umath_linalg.det(a, signature=signature)\n"
     ]
    }
   ],
   "source": [
    "save_case_for_GPU_CA(power_system,measurement_plan)"
   ]
  }
 ],
 "metadata": {
  "kernelspec": {
   "display_name": "Python 3",
   "language": "python",
   "name": "python3"
  },
  "language_info": {
   "codemirror_mode": {
    "name": "ipython",
    "version": 3
   },
   "file_extension": ".py",
   "mimetype": "text/x-python",
   "name": "python",
   "nbconvert_exporter": "python",
   "pygments_lexer": "ipython3",
   "version": "3.9.13 (tags/v3.9.13:6de2ca5, May 17 2022, 16:36:42) [MSC v.1929 64 bit (AMD64)]"
  },
  "orig_nbformat": 4,
  "vscode": {
   "interpreter": {
    "hash": "6c03531b4b3697884a919690ca2d14b8504105f80e859a9f5f029be47f9dca13"
   }
  }
 },
 "nbformat": 4,
 "nbformat_minor": 2
}
